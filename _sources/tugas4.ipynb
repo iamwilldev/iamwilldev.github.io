{
  "nbformat": 4,
  "nbformat_minor": 0,
  "metadata": {
    "colab": {
      "provenance": []
    },
    "kernelspec": {
      "name": "python3",
      "display_name": "Python 3"
    },
    "language_info": {
      "name": "python"
    }
  },
  "cells": [
    {
      "cell_type": "markdown",
      "source": [
        "# Tugas 4 - Menghitung Manual Backpropagation"
      ],
      "metadata": {
        "id": "nvI9O24Yuc8I"
      }
    },
    {
      "cell_type": "markdown",
      "source": [
        "Nama : Muhammad Muqtafin Nuha <br>\n",
        "NIM  : 210411100218"
      ],
      "metadata": {
        "id": "E-RkCrscugKN"
      }
    },
    {
      "cell_type": "markdown",
      "source": [
        "## Sumber\n",
        "<table class=\"tfo-notebook-buttons\" align=\"left\">\n",
        "  <td>\n",
        "    <a target=\"_blank\" href=\"https://repository.unsri.ac.id/28799/10/RAMA_09021381419076_55201_8826630017_0009019002_07_lamp.pdf\"><img src=\"https://unsri.ac.id/assets/img/unsri2.png\" height='28px' /> Perhitungan Manual Backpropagation</a>\n",
        "  </td>\n",
        "  <td>\n",
        "    <a target=\"_blank\" href=\"https://github.com/iamwilldev/Kumpulan-Dataset/raw/master/Tugas%204%20Menghitung%20Manual%20Backpropagation.xlsx\"><img src=\"https://upload.wikimedia.org/wikipedia/commons/thumb/3/34/Microsoft_Office_Excel_%282019%E2%80%93present%29.svg/1024px-Microsoft_Office_Excel_%282019%E2%80%93present%29.svg.png?20190925171014\" height='28px' /> Download Excel</a>\n",
        "  </td>\n",
        "</table>"
      ],
      "metadata": {
        "id": "K9iygTWwufZ-"
      }
    }
  ]
}